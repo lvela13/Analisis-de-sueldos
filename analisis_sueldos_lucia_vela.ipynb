{
 "cells": [
  {
   "cell_type": "markdown",
   "id": "fd3fa483-c0db-463e-94d7-99b33e0f342e",
   "metadata": {},
   "source": [
    "# Análisis de sueldos con Python"
   ]
  },
  {
   "cell_type": "markdown",
   "id": "ade5a290-3d22-4151-bedf-8a51fcac2300",
   "metadata": {},
   "source": [
    "## Data\n",
    "\n",
    "* [2021.2 - sysarmy - Encuesta de remuneración salarial Argentina\n",
    "](https://docs.google.com/spreadsheets/d/1-ZRznwS4TK74o90aOiCKS5SiXxUQ2buN1wxZIMHQmzQ/edit#gid=557755710) \n",
    "* [2021.2 - sysarmy - Encuesta de remuneración salarial Latam\n",
    "](https://docs.google.com/spreadsheets/d/1BkBNt1MHVS7DeIlpgmK9l6krtSQ5t_olRhlcyxMeKy0/edit#gid=557755710)"
   ]
  },
  {
   "cell_type": "markdown",
   "id": "684accd7-8da2-41d5-985b-caa44133b114",
   "metadata": {},
   "source": [
    "1. Descargar, leer y unir en una sola estructura de datos. ¿Qué estructura elegiste y por qué?"
   ]
  },
  {
   "cell_type": "code",
   "execution_count": 1,
   "id": "ec8a19e7-3443-4625-bd60-fb8efe44b599",
   "metadata": {},
   "outputs": [],
   "source": [
    "#Primero hice una copia de los archivos originales, luego de reemplazar las \",\" por \"|\" y los descargué en csv con el texto \"Sin comas\" adelante\n",
    "path_to_file_1 = \"Sin comas 2021.2 - sysarmy - Encuesta de remuneración salarial Argentina - Argentina.csv\"\n",
    "path_to_file_2 = \"Sin comas 2021.2 - sysarmy - Encuesta de remuneración salarial Latam - Latam.csv\"\n",
    "\n",
    "raw_cases_ARG = []\n",
    "raw_cases_LATAM = []\n",
    "\n",
    "with open(f\"{path_to_file_1}\", \"r\") as f_ARG:\n",
    "    for line in iter(f_ARG.readline, \"\"):\n",
    "        raw_cases_ARG.append(line.split(\",\"))\n",
    "        \n",
    "with open(f\"{path_to_file_2}\", \"r\") as f_LATAM:\n",
    "    for line in iter(f_LATAM.readline, \"\"):\n",
    "        raw_cases_LATAM.append(line.split(\",\"))\n",
    "        \n",
    "del raw_cases_ARG[:10]\n",
    "del raw_cases_LATAM[:11]"
   ]
  },
  {
   "cell_type": "code",
   "execution_count": 2,
   "id": "315b3e1e-e663-4e04-9203-717104aaa715",
   "metadata": {
    "tags": []
   },
   "outputs": [
    {
     "name": "stdout",
     "output_type": "stream",
     "text": [
      "6440\n"
     ]
    }
   ],
   "source": [
    "#elegí trabajar con una lista de diccionarios ya que luego es más sencillo llamar a las keys de una misma respuesta dentro de un for\n",
    "dic_cases_list_ARG = []\n",
    "\n",
    "for case in raw_cases_ARG:\n",
    "    dic_cases_list_ARG.append({\n",
    "            \"Pais\": \"Argentina\",\n",
    "            \"Región\": case[0],\n",
    "            \"Tipo contrato\": case[1] ,\n",
    "            \"Salario Bruto\": case[2],\n",
    "            \"Salario Neto\" : case[3],\n",
    "            \"Pagos en dólares\": case[4],\n",
    "            \"Valor de dólar tomado\": case[5],\n",
    "            \"Tipo de Rol\": case [13].lower(),\n",
    "            \"Años de experiencia\": case[14],\n",
    "            \"Años en la empresa actual\": case[15],\n",
    "            \"Años en el puesto actual\": case[16],\n",
    "            \"Plataformas\": case[19],\n",
    "            \"Lenguajes de programación\": case[19],\n",
    "            \"Nivel de educación formal\": case[31],\n",
    "            \"Estado del nivel\": case[32],\n",
    "            \"Carrera Universitaria\": case[33], #formatearla\n",
    "            \"Cursos de especialización\": case[35],\n",
    "            \"Colabora en Open Source\": case[36],\n",
    "            \"Programa por hobbie\": case[37],\n",
    "            \"Persona con discapacidad\": case[44],\n",
    "            \"Edad\": case[58],\n",
    "            \"Identidad de Género\": case[59]})\n",
    "\n",
    "print(len(dic_cases_list_ARG))"
   ]
  },
  {
   "cell_type": "code",
   "execution_count": 3,
   "id": "9fd2944f-6401-4baa-b5ca-687a481300d5",
   "metadata": {
    "tags": []
   },
   "outputs": [
    {
     "name": "stdout",
     "output_type": "stream",
     "text": [
      "429\n"
     ]
    }
   ],
   "source": [
    "dic_cases_list_LATAM = []\n",
    "\n",
    "for case in raw_cases_LATAM:\n",
    "    for i in range (1,19):\n",
    "        if case[i]:\n",
    "            region = case[i]\n",
    "            break\n",
    "    dic_cases_list_LATAM.append({\n",
    "            \"Pais\": case[0],\n",
    "            \"Región\": region,\n",
    "            \"Tipo contrato\": case[19],\n",
    "            \"Salario Bruto\": case[20],\n",
    "            \"Salario Neto\" : case[21],\n",
    "            \"Pagos en dólares\": case[22],\n",
    "            \"Valor de dólar tomado\": case[23],\n",
    "            \"Tipo de Rol\": case [31],\n",
    "            \"Años de experiencia\": case[32],\n",
    "            \"Años en la empresa actual\": case[33],\n",
    "            \"Años en el puesto actual\": case[34],\n",
    "            \"Plataformas\": case[36],\n",
    "            \"Lenguajes de programación\": case[37],\n",
    "            \"Nivel de educación formal\": case[49],\n",
    "            \"Estado del nivel\": case[50],\n",
    "            \"Carrera Universitaria\": case[51],\n",
    "            \"Cursos de especialización\": case[53],\n",
    "            \"Colabora en Open Source\": case[54],\n",
    "            \"Programa por hobbie\": case[55],\n",
    "            \"Persona con discapacidad\": case[62],\n",
    "            \"Edad\": case[76],\n",
    "            \"Identidad de Género\": case[77]})\n",
    "\n",
    "print(len(dic_cases_list_LATAM))"
   ]
  },
  {
   "cell_type": "code",
   "execution_count": 4,
   "id": "e84349f5-fc40-406b-8e92-358118947288",
   "metadata": {},
   "outputs": [],
   "source": [
    "dic_cases_list_ALL = []\n",
    "dic_cases_list_ALL = dic_cases_list_LATAM + dic_cases_list_ARG"
   ]
  },
  {
   "cell_type": "markdown",
   "id": "de5c8bec-41ea-4173-9b42-8bb3e7435d90",
   "metadata": {
    "tags": []
   },
   "source": [
    "2. Printear porcentaje de participación por región, ordenado de mayor a menor. Ej: \n",
    "\n",
    "```\n",
    "- Ciudad Autónoma de Buenos Aires - 59.4%\n",
    "- Formosa - 0.04%\n",
    "```"
   ]
  },
  {
   "cell_type": "code",
   "execution_count": 5,
   "id": "ffc60133-8ed3-41ec-a745-904b74136a35",
   "metadata": {
    "tags": []
   },
   "outputs": [],
   "source": [
    "list_keys_regiones = []\n",
    "\n",
    "for case in dic_cases_list_ALL:\n",
    "    case_region = case[\"Región\"]\n",
    "    if case_region not in list_keys_regiones:\n",
    "        list_keys_regiones.append(case_region)"
   ]
  },
  {
   "cell_type": "code",
   "execution_count": 6,
   "id": "e5b58d28-9b62-41a6-94e0-8039e853980f",
   "metadata": {
    "tags": []
   },
   "outputs": [],
   "source": [
    "def valores_key (key_ALL):\n",
    "    list_key = []\n",
    "\n",
    "    for key in dic_cases_list_ALL:\n",
    "        case_key = key[key_ALL]\n",
    "        if case_key not in list_key:\n",
    "            list_key.append(case_key)\n",
    "\n",
    "    return list_key"
   ]
  },
  {
   "cell_type": "code",
   "execution_count": 7,
   "id": "fce265f3-2443-40e5-b199-73ea4815f82d",
   "metadata": {
    "tags": []
   },
   "outputs": [],
   "source": [
    "list_keys_regiones = valores_key(\"Región\")\n",
    "dic_regiones = {}\n",
    "\n",
    "for region in list_keys_regiones:\n",
    "    dic_regiones[region] = 0\n",
    "    \n",
    "for case in dic_cases_list_ALL:\n",
    "    case_region = case[\"Región\"]\n",
    "    dic_regiones[case_region] +=1"
   ]
  },
  {
   "cell_type": "code",
   "execution_count": 8,
   "id": "2dc044fb-6e63-487f-a86a-b7d489b96935",
   "metadata": {
    "tags": []
   },
   "outputs": [
    {
     "name": "stdout",
     "output_type": "stream",
     "text": [
      "Porcentaje de participacion, sobre el total de respuestas en Total, para cada región (% mayor a 0.5% y de mayor a menor):\n",
      "Ciudad Autónoma de Buenos Aires - 51.71%\n",
      "Provincia de Buenos Aires - 10.1%\n",
      "GBA - 9.2%\n",
      "Córdoba - 7.8%\n",
      "Santa Fe - 5.82%\n",
      "Mendoza - 2.18%\n",
      "Montevideo - 1.7%\n",
      "Entre Ríos - 0.96%\n",
      "Río Negro - 0.76%\n",
      "Tucumán - 0.76%\n",
      "Neuquén - 0.68%\n",
      "Misiones - 0.61%\n",
      "Santiago - 0.58%\n",
      "Chaco - 0.57%\n"
     ]
    }
   ],
   "source": [
    "sorted_dic_regiones = {}\n",
    "sorted_regiones_keys = sorted(dic_regiones,key=dic_regiones.get,reverse = True)\n",
    "\n",
    "for region in sorted_regiones_keys:\n",
    "    sorted_dic_regiones[region] = dic_regiones[region]\n",
    "    \n",
    "print(\"Porcentaje de participacion, sobre el total de respuestas en Total, para cada región (% mayor a 0.5% y de mayor a menor):\")\n",
    "for region in enumerate(sorted_dic_regiones):\n",
    "    region_value = round((sorted_dic_regiones[region[1]]/len(dic_cases_list_ALL) * 100),2)\n",
    "    if region_value >= 0.5: #para printear todas sacar este if\n",
    "        print(region[1] + \" - \" + str(region_value) + \"%\")"
   ]
  },
  {
   "cell_type": "markdown",
   "id": "c54ea6d9-29aa-4788-9abe-fe6fdb5ba797",
   "metadata": {
    "tags": []
   },
   "source": [
    "3. Printear porcentaje de participación por tipo de rol, ordenado de mayor a menor. Ej:  \n",
    "`- Developer - 39.11 %`"
   ]
  },
  {
   "cell_type": "code",
   "execution_count": 9,
   "id": "907bc7bd-1f7d-48be-9874-76813ebe89c2",
   "metadata": {
    "tags": []
   },
   "outputs": [],
   "source": [
    "list_engineer = []\n",
    "list_developer = []\n",
    "list_manager = []\n",
    "list_analyst = []\n",
    "list_QA = []\n",
    "list_leader = []\n",
    "list_architect = []\n",
    "list_ux_ui = []\n",
    "list_others = []\n",
    "\n",
    "for case in dic_cases_list_ALL:\n",
    "    case_rol = case[\"Tipo de Rol\"].lower()\n",
    "    if \"engineer\" in case_rol:\n",
    "        list_engineer.append(case_rol)\n",
    "    elif \"ingeniero\" in case_rol:\n",
    "        list_engineer.append(case_rol)\n",
    "    if \"dev\" in case_rol:\n",
    "        list_developer.append(case_rol)\n",
    "    if  \"manager\" in case_rol:\n",
    "        list_manager.append(case_rol)\n",
    "    elif \"jefe\" in case_rol:\n",
    "        list_manager.append(case_rol)\n",
    "    elif \"gerente\" in case_rol:\n",
    "        list_manager.append(case_rol)\n",
    "    if \"analyst\" in case_rol:\n",
    "        list_analyst.append(case_rol)\n",
    "    elif \"analist\" in case_rol:\n",
    "        list_analyst.append(case_rol)\n",
    "    elif \"analisis\" in case_rol:\n",
    "        list_analyst.append(case_rol)\n",
    "    if \"qa\" in case_rol:\n",
    "        list_QA.append(case_rol)\n",
    "    if \"leader\" in case_rol:\n",
    "        list_leader.append(case_rol)\n",
    "    if \"architect\" in case_rol:\n",
    "        list_architect.append(case_rol)\n",
    "    if \"ux\" in case_rol:\n",
    "        list_ux_ui.append(case_rol)\n",
    "    elif \"ui\" in case_rol:\n",
    "        list_ux_ui.append(case_rol)\n",
    "        \n",
    "list_total = list_engineer + list_developer + list_manager + list_analyst + list_QA + list_leader + list_architect + list_ux_ui \n",
    "\n",
    "for case in dic_cases_list_ALL:\n",
    "    case_rol = case[\"Tipo de Rol\"].lower()\n",
    "    if case_rol not in list_total:\n",
    "        list_others.append(case_rol)\n",
    "        \n",
    "dic_roles = {\"Engineer\": len(list_engineer),\n",
    "            \"Developer\": len(list_developer),\n",
    "            \"Manager\": len(list_manager),\n",
    "            \"Analyst\": len(list_analyst),\n",
    "            \"QA\": len(list_QA),\n",
    "            \"Leader\": len(list_leader),\n",
    "            \"Architect\": len(list_architect),\n",
    "            \"UX/UI\": len(list_ux_ui),\n",
    "            \"Others\": len(list_others)}"
   ]
  },
  {
   "cell_type": "code",
   "execution_count": 10,
   "id": "28c584f6-2d6f-462c-8bb9-bd139b2d1839",
   "metadata": {},
   "outputs": [
    {
     "name": "stdout",
     "output_type": "stream",
     "text": [
      "Porcentaje de participacion, sobre el total de respuestas, para cada Tipo de Rol (de mayor a menor):\n",
      "Developer  -  52.18 %\n",
      "Others  -  15.94 %\n",
      "Manager  -  8.97 %\n",
      "Leader  -  6.29 %\n",
      "Analyst  -  4.86 %\n",
      "QA  -  4.41 %\n",
      "UX/UI  -  2.88 %\n",
      "Engineer  -  2.31 %\n",
      "Architect  -  2.3 %\n"
     ]
    }
   ],
   "source": [
    "sorted_dic_roles = {}\n",
    "sorted_roles_keys = sorted(dic_roles,key=dic_roles.get,reverse = True)\n",
    "\n",
    "for rol in sorted_roles_keys:\n",
    "    sorted_dic_roles[rol] = dic_roles[rol]\n",
    "    \n",
    "print(\"Porcentaje de participacion, sobre el total de respuestas, para cada Tipo de Rol (de mayor a menor):\")\n",
    "for rol in enumerate(sorted_dic_roles):\n",
    "    rol_value = round((sorted_dic_roles[rol[1]]/len(dic_cases_list_ALL) * 100),2)\n",
    "    print(rol[1], \" - \", str(rol_value), \"%\")"
   ]
  },
  {
   "cell_type": "markdown",
   "id": "86afc125-4a66-42de-a238-2aeec44a43d1",
   "metadata": {},
   "source": [
    "4. Printear porcentaje de respuesta para las preguntas: \n",
    "* ¿Contribuís a proyectos Open Source?\n",
    "* ¿Programás por hobbie?"
   ]
  },
  {
   "cell_type": "code",
   "execution_count": 11,
   "id": "43780b5a-1435-44ad-bc50-d5da3a8660e9",
   "metadata": {},
   "outputs": [
    {
     "name": "stdout",
     "output_type": "stream",
     "text": [
      "El total de personas que colaboran en proyectos Open Source, sobre el total de personas que respondieron a la pregunta, es 14.97%\n"
     ]
    }
   ],
   "source": [
    "list_os_si = []\n",
    "list_os_no = []\n",
    "\n",
    "for case in dic_cases_list_ALL:\n",
    "    case_os = case[\"Colabora en Open Source\"]\n",
    "    if case_os == \"No\":\n",
    "        list_os_no.append(case_os)\n",
    "    if case_os == \"Sí\":\n",
    "        list_os_si.append(case_os)\n",
    "    \n",
    "q_respuestas_si = len(list_os_si)\n",
    "q_respuestas_no = len(list_os_no)\n",
    "\n",
    "total_respuestas_os = q_respuestas_si + q_respuestas_no\n",
    "\n",
    "per_respuestas_si = round((q_respuestas_si/total_respuestas_os * 100),2)\n",
    "\n",
    "print(\"El total de personas que colaboran en proyectos Open Source, sobre el total de personas que respondieron a la pregunta, es \" + str(per_respuestas_si) + \"%\")\n"
   ]
  },
  {
   "cell_type": "code",
   "execution_count": 12,
   "id": "37851c6b-9450-4453-8d2f-9c118029459d",
   "metadata": {},
   "outputs": [
    {
     "name": "stdout",
     "output_type": "stream",
     "text": [
      "El total de personas que programan por Hobbie, sobre el total de personas que respondieron a la pregunta, es 56.06%\n"
     ]
    }
   ],
   "source": [
    "list_hobbie_si = []\n",
    "list_hobbie_no = []\n",
    "\n",
    "for case in dic_cases_list_ALL:\n",
    "    case_hobbie = case[\"Programa por hobbie\"]\n",
    "    if case_hobbie == \"No\":\n",
    "        list_hobbie_no.append(case_hobbie)\n",
    "    if case_hobbie == \"Sí\":\n",
    "        list_hobbie_si.append(case_hobbie)\n",
    "    \n",
    "q_respuestas_si = len(list_hobbie_si)\n",
    "q_respuestas_no = len(list_hobbie_no)\n",
    "\n",
    "total_respuestas_hobbie = q_respuestas_si + q_respuestas_no\n",
    "\n",
    "per_respuestas_si = round((q_respuestas_si/total_respuestas_hobbie * 100),2)\n",
    "\n",
    "print(\"El total de personas que programan por Hobbie, sobre el total de personas que respondieron a la pregunta, es \" + str(per_respuestas_si) + \"%\")"
   ]
  },
  {
   "cell_type": "markdown",
   "id": "d34da47a-01d6-4b6f-a8cd-0626de035376",
   "metadata": {},
   "source": [
    "5. Printear porcentaje por seniority según años de experiencia, el mapeo es:\n",
    "```\n",
    "Junior: de 0 hasta 2 años.\n",
    "Semi-Senior: de 2 años inclusive hasta 5 años.\n",
    "Senior: desde 5 años inclusive.\n",
    "``` "
   ]
  },
  {
   "cell_type": "code",
   "execution_count": 13,
   "id": "7c54d9d9-fbd2-4057-882f-4d82bda0d7ef",
   "metadata": {
    "tags": []
   },
   "outputs": [
    {
     "name": "stdout",
     "output_type": "stream",
     "text": [
      "El porcentaje de particitación, sobre el total de respuesta a la pregunta, para los senioritys es: \n",
      "- Junior: 16.04% \n",
      "- Semisenior: 26.1% \n",
      "- Senior: 57.86% \n"
     ]
    }
   ],
   "source": [
    "list_junior = []\n",
    "list_semisenior = []\n",
    "list_senior = []\n",
    "\n",
    "for case in dic_cases_list_ALL:\n",
    "    case_seniority = float(case[\"Años de experiencia\"])\n",
    "    if case_seniority <2 :\n",
    "        list_junior.append(case_seniority)\n",
    "    if 2 >= case_seniority <5:\n",
    "        list_semisenior.append(case_seniority)\n",
    "    if case_seniority >= 5:\n",
    "        list_senior.append(case_seniority)\n",
    "        \n",
    "q_list_junior = len(list_junior)\n",
    "q_list_semisenior = len(list_semisenior)\n",
    "q_list_senior = len(list_senior)\n",
    "\n",
    "q_total_seniority = q_list_junior + q_list_semisenior + q_list_senior\n",
    "\n",
    "per_junior = round((q_list_junior/q_total_seniority * 100),2)\n",
    "per_semisenior = round((q_list_semisenior/q_total_seniority * 100),2)\n",
    "per_senior = round((q_list_senior/q_total_seniority * 100),2)\n",
    "\n",
    "print(\"El porcentaje de particitación, sobre el total de respuesta a la pregunta, para los senioritys es: \"+\"\\n\"+\"- Junior: \" + str(per_junior) + \"% \"+ \"\\n\" + \"- Semisenior: \" + str(per_semisenior) + \"% \"+ \"\\n\" + \"- Senior: \" + str(per_senior) + \"% \")\n"
   ]
  },
  {
   "cell_type": "markdown",
   "id": "7a182336-14cd-4e10-82d5-920779453a87",
   "metadata": {},
   "source": [
    "6. Printear porcentaje de personas encuestadas por años en la compañía actual y por años en el puesto actual."
   ]
  },
  {
   "cell_type": "code",
   "execution_count": 14,
   "id": "e7cb4e75-62ab-4c32-b210-a05f6944eabf",
   "metadata": {},
   "outputs": [
    {
     "name": "stdout",
     "output_type": "stream",
     "text": [
      "El porcentaje de particitación, sobre el total de respuesta a la pregunta, para los Años de antigüedad en la compañía actual es:  \n",
      " - Hasta 2 años de antigüedad: 17.74 % \n",
      " - 2 a 5 años de antigüedad: 22.52 % \n",
      " - 5 a 10 años de antigüedad: 28.28 % \n",
      " - Más de 10 años de antigüedad: 31.45 %\n"
     ]
    }
   ],
   "source": [
    "list_ant_menos_2 = []\n",
    "list_ant_menos_5 = []\n",
    "list_ant_menos_10 = []\n",
    "list_ant_mas_10 = []\n",
    "\n",
    "for case in dic_cases_list_ALL:\n",
    "    ant = float(case[\"Años en la empresa actual\"])\n",
    "    if ant < 2:\n",
    "        list_ant_menos_2.append(ant)\n",
    "    if 2 >= ant < 5:\n",
    "        list_ant_menos_5.append(ant)\n",
    "    if 5 >= ant < 10:\n",
    "        list_ant_menos_10.append(ant)\n",
    "    if 10 >= ant <= 30: #no conte los mas de 30 porque son pocos y algunos creo que son en broma ej: 85\n",
    "        list_ant_mas_10.append(ant)\n",
    "\n",
    "q_ant_menos_2 = len(list_ant_menos_2)\n",
    "q_ant_menos_5 = len(list_ant_menos_5)\n",
    "q_ant_menos_10 = len(list_ant_menos_10)\n",
    "q_ant_mas_10 = len(list_ant_mas_10)\n",
    "\n",
    "q_total_ant = q_ant_menos_2 + q_ant_menos_5 + q_ant_menos_10 + q_ant_mas_10\n",
    "\n",
    "per_ant_menos_2 = round((q_ant_menos_2/q_total_ant) * 100,2)\n",
    "per_ant_menos_5 = round((q_ant_menos_5/q_total_ant) * 100,2)\n",
    "per_ant_menos_10 = round((q_ant_menos_10/q_total_ant) * 100,2)\n",
    "per_ant_mas_10 = round((q_ant_mas_10/q_total_ant) * 100,2)\n",
    "\n",
    "\n",
    "print(\"El porcentaje de particitación, sobre el total de respuesta a la pregunta, para los Años de antigüedad en la compañía actual es: \",\"\\n\",\"- Hasta 2 años de antigüedad:\",per_ant_menos_2,\"%\",\"\\n\",\n",
    "      \"- 2 a 5 años de antigüedad:\",per_ant_menos_5,\"%\",\"\\n\",\"- 5 a 10 años de antigüedad:\",per_ant_menos_10,'%',\"\\n\",\"- Más de 10 años de antigüedad:\",per_ant_mas_10,'%')\n"
   ]
  },
  {
   "cell_type": "code",
   "execution_count": 15,
   "id": "dd838fc3-5e7f-4db4-9b31-d753ac9947d7",
   "metadata": {},
   "outputs": [
    {
     "name": "stdout",
     "output_type": "stream",
     "text": [
      "El porcentaje de particitación, sobre el total de respuesta a la pregunta, para los Años de antigüedad en el puesto actual es \n",
      " - Hasta 2 años de antigüedad: 16.67 % \n",
      " - 2 a 5 años de antigüedad: 22.14 % \n",
      " - 5 a 10 años de antigüedad: 29.1 % \n",
      " - Más de 10 años de antigüedad: 32.08 %\n"
     ]
    }
   ],
   "source": [
    "list_ant_puesto_menos_2 = []\n",
    "list_ant_puesto_menos_5 = []\n",
    "list_ant_puesto_menos_10 = []\n",
    "list_ant_puesto_mas_10 = []\n",
    "\n",
    "for case in dic_cases_list_ALL:\n",
    "    ant_puesto = float(case[\"Años en el puesto actual\"])\n",
    "    if ant_puesto < 2:\n",
    "        list_ant_puesto_menos_2.append(ant_puesto)\n",
    "    if 2 >= ant_puesto < 5:\n",
    "        list_ant_puesto_menos_5.append(ant_puesto)\n",
    "    if 5 >= ant_puesto < 10:\n",
    "        list_ant_puesto_menos_10.append(ant_puesto)\n",
    "    if 10 >= ant_puesto <= 30: \n",
    "        list_ant_puesto_mas_10.append(ant_puesto)\n",
    "\n",
    "q_ant_puesto_menos_2 = len(list_ant_puesto_menos_2)\n",
    "q_ant_puesto_menos_5 = len(list_ant_puesto_menos_5)\n",
    "q_ant_puesto_menos_10 = len(list_ant_puesto_menos_10)\n",
    "q_ant_puesto_mas_10 = len(list_ant_puesto_mas_10)\n",
    "\n",
    "q_total_ant_puesto = q_ant_puesto_menos_2 + q_ant_puesto_menos_5 + q_ant_puesto_menos_10 + q_ant_puesto_mas_10\n",
    "\n",
    "per_ant_puesto_menos_2 = round((q_ant_puesto_menos_2/q_total_ant_puesto) * 100,2)\n",
    "per_ant_puesto_menos_5 = round((q_ant_puesto_menos_5/q_total_ant_puesto) * 100,2)\n",
    "per_ant_puesto_menos_10 = round((q_ant_puesto_menos_10/q_total_ant_puesto) * 100,2)\n",
    "per_ant_puesto_mas_10 = round((q_ant_puesto_mas_10/q_total_ant_puesto) * 100,2)\n",
    "\n",
    "print(\"El porcentaje de particitación, sobre el total de respuesta a la pregunta, para los Años de antigüedad en el puesto actual es\",\"\\n\",\"- Hasta 2 años de antigüedad:\",per_ant_puesto_menos_2,\"%\",\"\\n\",\n",
    "      \"- 2 a 5 años de antigüedad:\",per_ant_puesto_menos_5,\"%\",\"\\n\",\"- 5 a 10 años de antigüedad:\",per_ant_puesto_menos_10,'%',\"\\n\",\"- Más de 10 años de antigüedad:\",per_ant_puesto_mas_10,'%')\n"
   ]
  },
  {
   "cell_type": "markdown",
   "id": "0c7df29f-b36c-424b-b5a7-0c37e0ccfe99",
   "metadata": {},
   "source": [
    "7. Printear porcentajes de nivel de educación formal y estado, es decir: % educación secundaria, terciaria, universitaria, postgrado, doctorado, postdoctorado, completo, incompleto y en curso para cada uno."
   ]
  },
  {
   "cell_type": "code",
   "execution_count": 16,
   "id": "2d6e3b83-aabd-4570-b28e-f798aed02b89",
   "metadata": {},
   "outputs": [],
   "source": [
    "list_nivel_edu = valores_key(\"Nivel de educación formal\")\n",
    "dic_niveles_edu = {}            \n",
    "list_nivel_edu.pop(1) #saco el campo vacio\n",
    "\n",
    "for nivel in list_nivel_edu:\n",
    "    dic_niveles_edu[nivel] = 0\n",
    "\n",
    "for case in dic_cases_list_ALL:\n",
    "    case_nivel = case[\"Nivel de educación formal\"]\n",
    "    if case_nivel != \"\":\n",
    "        dic_niveles_edu[case_nivel] += 1\n",
    "    \n",
    "total_niveles_edu = sum(dic_niveles_edu.values())"
   ]
  },
  {
   "cell_type": "code",
   "execution_count": 17,
   "id": "e90f47ab-c8eb-4a92-8a36-2ed3c369deb4",
   "metadata": {},
   "outputs": [
    {
     "name": "stdout",
     "output_type": "stream",
     "text": [
      "Porcentaje de participación, sobre el total de respuestas, para cada Nivel de formación (de mayor a menor):\n",
      "Universitario - 68.5%\n",
      "Terciario - 17.3%\n",
      "Posgrado - 6.94%\n",
      "Secundario - 6.39%\n",
      "Doctorado - 0.72%\n",
      "Posdoctorado - 0.12%\n",
      "Primario - 0.03%\n"
     ]
    }
   ],
   "source": [
    "sorted_dic_edu = {}\n",
    "sorted_edu_keys = sorted(dic_niveles_edu,key=dic_niveles_edu.get,reverse = True)\n",
    "\n",
    "for edu in sorted_edu_keys:\n",
    "    sorted_dic_edu[edu] = dic_niveles_edu[edu]\n",
    "    \n",
    "print(\"Porcentaje de participación, sobre el total de respuestas, para cada Nivel de formación (de mayor a menor):\")\n",
    "for edu in enumerate(sorted_dic_edu):\n",
    "    edu_value = round((sorted_dic_edu[edu[1]]/total_niveles_edu * 100),2) \n",
    "    print(edu[1] + \" - \" + str(edu_value) + \"%\")"
   ]
  },
  {
   "cell_type": "code",
   "execution_count": 18,
   "id": "a220e456-48aa-4946-9599-d1b7b0a7d80b",
   "metadata": {
    "tags": []
   },
   "outputs": [],
   "source": [
    "list_primario = []\n",
    "list_secundario = [] \n",
    "list_terciario = []\n",
    "list_universitario = []\n",
    "list_posgrado = []\n",
    "list_doctorado = []\n",
    "list_posdoctorado = []\n",
    "\n",
    "for case in dic_cases_list_ALL:\n",
    "    case_edu = case[\"Nivel de educación formal\"]\n",
    "    case_edu_status = case[\"Estado del nivel\"]\n",
    "    if \"Primario\" in case_edu:\n",
    "        list_primario.append(case_edu_status)\n",
    "    if \"Secundario\" in case_edu:\n",
    "        list_secundario.append(case_edu_status)\n",
    "    if \"Terciario\" in case_edu:\n",
    "        list_terciario.append(case_edu_status)\n",
    "    if \"Universitario\" in case_edu:\n",
    "        list_universitario.append(case_edu_status)\n",
    "    if \"Posgrado\" in case_edu:\n",
    "        list_posgrado.append(case_edu_status)\n",
    "    if \"Doctorado\" in case_edu:\n",
    "        list_doctorado.append(case_edu_status)\n",
    "    if \"Posdoctorado\" in case_edu:\n",
    "        list_posdoctorado.append(case_edu_status)"
   ]
  },
  {
   "cell_type": "code",
   "execution_count": 19,
   "id": "3a829faf-750d-4006-8eae-34affc9060e5",
   "metadata": {},
   "outputs": [],
   "source": [
    "def conteo_palabras(lista_str):\n",
    "    conteo_palabras = [str(round((lista_str.count(palabra)/len(lista_str))*100,2)) + \"%\" for palabra in lista_str]\n",
    "    return dict(list(zip(lista_str,conteo_palabras)))"
   ]
  },
  {
   "cell_type": "code",
   "execution_count": 20,
   "id": "77f94c36-7d18-4052-9a8d-0bf144f36779",
   "metadata": {},
   "outputs": [
    {
     "name": "stdout",
     "output_type": "stream",
     "text": [
      "Porcentaje de estado para cada nivel:\n",
      "- Primario {'Incompleto': '100.0%'}\n",
      "- Secundario {'Completado': '90.54%', 'Incompleto': '7.21%', 'En curso': '2.25%'}\n",
      "- Terciario {'Completado': '51.08%', 'En curso': '27.45%', 'Incompleto': '21.46%'}\n",
      "- Universitario {'Completado': '36.78%', 'Incompleto': '26.06%', 'En curso': '37.16%'}\n",
      "- Posgrado {'Incompleto': '10.79%', 'Completado': '65.56%', 'En curso': '23.65%'}\n",
      "- Doctorado {'Completado': '52.0%', 'En curso': '40.0%', 'Incompleto': '8.0%'}\n",
      "- Posdoctorado {'Completado': '50.0%', 'En curso': '25.0%', 'Incompleto': '25.0%'}\n"
     ]
    }
   ],
   "source": [
    "print(\"Porcentaje de estado para cada nivel:\" + \"\\n\" +\n",
    "      \"- Primario \" + str(conteo_palabras(list_primario)) + \"\\n\" +\n",
    "      \"- Secundario \" + str(conteo_palabras(list_secundario)) + \"\\n\" +\n",
    "      \"- Terciario \" + str(conteo_palabras(list_terciario)) + \"\\n\" +\n",
    "      \"- Universitario \" + str(conteo_palabras(list_universitario)) + \"\\n\" +\n",
    "      \"- Posgrado \" + str(conteo_palabras(list_posgrado)) + \"\\n\" +\n",
    "      \"- Doctorado \" + str(conteo_palabras(list_doctorado)) + \"\\n\" +\n",
    "      \"- Posdoctorado \" + str(conteo_palabras(list_posdoctorado)))"
   ]
  },
  {
   "cell_type": "markdown",
   "id": "51786345-dfc6-4c3a-98d9-5e57bd1ce48b",
   "metadata": {},
   "source": [
    "8. Formatear las carreras universitarias:\n",
    "- Nombres capitalizados\n",
    "- Reemplazar vocales con tilde por vocales sin tilde.\n",
    "- Reemplazar `ñ` por `n`\n",
    "- *lic*, *lic.* por Licenciatura\n",
    "- *tec*, *tec.* por Tecnucatura\n",
    "* *cs, *cs.* por Ciencias\n",
    "* *ed, ed.* por Educación\n",
    "* Transformaciones que se consideren necesarias\n",
    "\n",
    "Printear porcentaje según carrera"
   ]
  },
  {
   "cell_type": "code",
   "execution_count": 21,
   "id": "57336a2e-5dec-4c81-a3d5-89edbbe69da8",
   "metadata": {},
   "outputs": [],
   "source": [
    "def normalize(c):\n",
    "    replacements = ((\"á\", \"a\"),\n",
    "    (\"é\", \"e\"),\n",
    "    (\"í\", \"i\"),\n",
    "    (\"ó\", \"o\"),\n",
    "    (\"ú\", \"u\"),\n",
    "    (\"ñ\", \"n\"),\n",
    "    (\"Lic \", \"Licenciatura\"),\n",
    "    (\"Tec \", \"Tecnicatura\"),\n",
    "    (\"Cs \", \"Ciencias\"),\n",
    "    (\"Ed \", \"Educacion\"),\n",
    "    (\"Ing \", \"Ingenieria\"),\n",
    "    (\"Lic.\", \"Licenciatura\"),\n",
    "    (\"Tec.\", \"Tecnicatura\"),\n",
    "    (\"Cs.\", \"Ciencias\"),\n",
    "    (\"Ed.\", \"Educacion\"),\n",
    "    (\"Ing.\", \"Ingenieria\"))\n",
    "    \n",
    "    for a, b in replacements:\n",
    "        c = c.replace(a, b).replace(a.upper(),b.upper())\n",
    "        c = str.capitalize(c)\n",
    "    return c"
   ]
  },
  {
   "cell_type": "code",
   "execution_count": 22,
   "id": "1698caaf-1e07-4972-bb29-cca4c99e603e",
   "metadata": {},
   "outputs": [],
   "source": [
    "list_carrera = []\n",
    "list_carrera_norm = []\n",
    "\n",
    "for case in dic_cases_list_ALL:\n",
    "    carrera = case[\"Carrera Universitaria\"]\n",
    "    if carrera != \"\":\n",
    "        list_carrera.append(carrera)\n",
    "        \n",
    "for carrera in list_carrera:\n",
    "    carrera_norm = normalize(carrera)\n",
    "    list_carrera_norm.append(carrera_norm)"
   ]
  },
  {
   "cell_type": "code",
   "execution_count": 23,
   "id": "1ef78441-ed87-4de2-98ae-95568befa42c",
   "metadata": {
    "tags": []
   },
   "outputs": [],
   "source": [
    "list_keys_carrera = []\n",
    "\n",
    "for carrera in list_carrera_norm:\n",
    "    if carrera not in list_keys_carrera:\n",
    "        list_keys_carrera.append(carrera)"
   ]
  },
  {
   "cell_type": "code",
   "execution_count": 24,
   "id": "f77bd458-9374-4cbd-8fc5-7001c644e857",
   "metadata": {},
   "outputs": [],
   "source": [
    "dic_carreras = {}\n",
    "\n",
    "for carrera in list_keys_carrera:\n",
    "    dic_carreras[carrera] = 0\n",
    "\n",
    "for carrera in list_carrera_norm:\n",
    "    dic_carreras[carrera] +=1"
   ]
  },
  {
   "cell_type": "code",
   "execution_count": 25,
   "id": "7d6dbe4c-2047-4f20-9ad5-0c0dc1f4ec40",
   "metadata": {},
   "outputs": [
    {
     "name": "stdout",
     "output_type": "stream",
     "text": [
      "Porcentaje de participacion, sobre el total de respuestas, para cada Carrera (de mayor a menor):\n",
      "Ingenieria en sistemas de informacion - 9.14%\n",
      "Ingenieria en informatica - 5.46%\n",
      "Analista de sistemas - 4.18%\n",
      "Licenciatura en ciencias de la computacion - 2.72%\n",
      "Licenciatura en sistemas de informacion - 2.72%\n",
      "Licenciatura en informatica - 2.07%\n",
      "Tecnicatura en programacion - 1.63%\n",
      "Ingenieria electronica - 1.44%\n",
      "Ingenieria en computacion - 1.35%\n",
      "Diseno grafico - 1.19%\n",
      "Tecnicatura superior en programacion - 1.14%\n",
      "Licenciatura en administracion - 0.83%\n",
      "Tecnicatura en informatica - 0.76%\n",
      "Ingenieria industrial - 0.57%\n",
      "Licenciatura en analisis de sistemas - 0.57%\n",
      "Analista programador - 0.54%\n",
      "Ingenieria en software - 0.51%\n"
     ]
    }
   ],
   "source": [
    "sorted_dic_carreras = {}\n",
    "sorted_carreras_keys = sorted(dic_carreras,key=dic_carreras.get,reverse = True)\n",
    "\n",
    "for carrera in sorted_carreras_keys:\n",
    "    sorted_dic_carreras[carrera] = dic_carreras[carrera]\n",
    "    \n",
    "print(\"Porcentaje de participacion, sobre el total de respuestas, para cada Carrera (de mayor a menor):\")\n",
    "for carrera in enumerate(sorted_dic_carreras):\n",
    "    carrera_value = round((sorted_dic_carreras[carrera[1]]/len(dic_cases_list_ALL) * 100),2) \n",
    "    if carrera_value >= 0.5: #solo se printea los que tienen valor mayor a 0.5\n",
    "        print(carrera[1] + \" - \" + str(carrera_value) + \"%\")"
   ]
  },
  {
   "cell_type": "markdown",
   "id": "ea803c6d-6a61-4d98-be72-116ae2855e70",
   "metadata": {
    "tags": []
   },
   "source": [
    "9. Printear porcentaje de respuesta a las preguntas:\n",
    "- ¿Realizaste cursos de especialización?\n",
    "- Si realizaste, ¿Quién pagó por los cursos de especialización?"
   ]
  },
  {
   "cell_type": "code",
   "execution_count": 26,
   "id": "99f82b25-fa8a-42b4-8349-19035ff67fce",
   "metadata": {},
   "outputs": [
    {
     "name": "stdout",
     "output_type": "stream",
     "text": [
      "El porcentaje de personas que realizaron cursos de especialización, sobre el total de respuestas a la pregunta, es: \n",
      "82.67%\n",
      "Del total de personas que realizaron cursos de especialización, el 58.58% lo pagó particular y el 24.09% lo pagó el empleador.\n"
     ]
    }
   ],
   "source": [
    "list_esp_particular = []\n",
    "list_esp_empleador = []\n",
    "list_esp_no = []\n",
    "\n",
    "for case in dic_cases_list_ALL:\n",
    "    case_esp = case[\"Cursos de especialización\"]\n",
    "    if case_esp == \"No\":\n",
    "        list_esp_no.append(case_esp)\n",
    "    if \"particular\" in case_esp:\n",
    "        list_esp_particular.append(case_esp)\n",
    "    if  \"empleador\" in case_esp:\n",
    "        list_esp_empleador.append(case_esp)\n",
    "\n",
    "q_respuestas_particular = len(list_esp_particular)\n",
    "q_respuestas_empleador = len(list_esp_empleador)          \n",
    "q_respuestas_si = q_respuestas_particular + q_respuestas_empleador\n",
    "q_respuestas_no = len(list_esp_no)\n",
    "\n",
    "total_respuestas_esp = q_respuestas_particular + q_respuestas_empleador + q_respuestas_no\n",
    "per_respuestas_si = round((q_respuestas_si/total_respuestas_esp * 100),2)\n",
    "\n",
    "per_respuestas_particular = round((q_respuestas_particular/total_respuestas_esp * 100),2)\n",
    "per_respuestas_empleador = round((q_respuestas_empleador/total_respuestas_esp * 100),2)\n",
    "\n",
    "print(\"El porcentaje de personas que realizaron cursos de especialización, sobre el total de respuestas a la pregunta, es: \"+ \"\\n\" + str(per_respuestas_si) + \"%\" + \"\\n\" +\n",
    "      \"Del total de personas que realizaron cursos de especialización, el \" + str(per_respuestas_particular) + \"% lo pagó particular y el \" + str(per_respuestas_empleador) + \"% lo pagó el empleador.\")\n"
   ]
  },
  {
   "cell_type": "markdown",
   "id": "cb7a4544-062a-4429-abea-f0b7293b48f7",
   "metadata": {},
   "source": [
    "10. Printear porcentaje por identidad de género y personas con discapacidad"
   ]
  },
  {
   "cell_type": "code",
   "execution_count": 27,
   "id": "a6e907fc-ecb6-4255-8eba-59b9199f14a6",
   "metadata": {
    "tags": []
   },
   "outputs": [],
   "source": [
    "list_keys_generos = []\n",
    "\n",
    "for case in dic_cases_list_ALL:\n",
    "    case_genero = normalize(case[\"Identidad de Género\"])\n",
    "    if case_genero not in list_keys_generos:\n",
    "        list_keys_generos.append(case_genero)"
   ]
  },
  {
   "cell_type": "code",
   "execution_count": 28,
   "id": "202df06a-d468-4d64-a7bd-6e6d8f39663a",
   "metadata": {},
   "outputs": [],
   "source": [
    "dic_generos = {}\n",
    "list_masculino = []\n",
    "list_femenino = []\n",
    "list_trans = []\n",
    "list_no_binario = []\n",
    "\n",
    "for genero in list_keys_generos:\n",
    "    dic_generos[genero] = 0\n",
    "\n",
    "for case in dic_cases_list_ALL:\n",
    "    case_genero = normalize(case[\"Identidad de Género\"])\n",
    "    if \"trans\" in case_genero:\n",
    "        list_trans.append(case_genero)\n",
    "    if \"Hombre\" in case_genero:\n",
    "        list_masculino.append(case_genero)\n",
    "    elif \"Varon\" in case_genero:\n",
    "        list_masculino.append(case_genero)\n",
    "    elif \"Masculino\" in case_genero:\n",
    "        list_masculino.append(case_genero)\n",
    "    if \"Mujer\" in case_genero:\n",
    "        list_femenino.append(case_genero)\n",
    "    elif \"Femenino\" in case_genero:\n",
    "        list_femenino.append(case_genero)\n",
    "    if \"No binarie\" in case_genero:\n",
    "        list_no_binario.append(case_genero)\n",
    "        \n",
    "dic_generos = {\"Masculino\": len(list_masculino),\n",
    "              \"Femenino\": len(list_femenino),\n",
    "              \"Trans\": len(list_trans),\n",
    "              \"No binario\": len(list_no_binario)}"
   ]
  },
  {
   "cell_type": "code",
   "execution_count": 29,
   "id": "fbff4e0b-5122-44c6-bf12-98cff7f0e463",
   "metadata": {
    "tags": []
   },
   "outputs": [
    {
     "name": "stdout",
     "output_type": "stream",
     "text": [
      "Porcentaje de participación por Identidad de Género (se consideran solo respuestas sobre género, de mayor a menor):\n",
      "Masculino - 81.49%\n",
      "Femenino - 17.42%\n",
      "No binario - 0.77%\n",
      "Trans - 0.32%\n"
     ]
    }
   ],
   "source": [
    "sorted_dic_generos = {}\n",
    "sorted_generos_keys = sorted(dic_generos,key=dic_generos.get,reverse = True)\n",
    "total_generos = 0\n",
    "\n",
    "for genero in sorted_generos_keys:\n",
    "    sorted_dic_generos[genero] = dic_generos[genero]\n",
    "\n",
    "print(\"Porcentaje de participación por Identidad de Género (se consideran solo respuestas sobre género, de mayor a menor):\")\n",
    "for genero in enumerate(sorted_dic_generos):\n",
    "    genero_value = round((sorted_dic_generos[genero[1]]/sum(dic_generos.values()) * 100),2)\n",
    "    print(genero[1]+ \" - \" + str(genero_value) + \"%\")"
   ]
  },
  {
   "cell_type": "code",
   "execution_count": 30,
   "id": "e6fa0a9c-5725-415a-97bf-d968a1ca6daf",
   "metadata": {
    "tags": []
   },
   "outputs": [],
   "source": [
    "list_con_disc = []\n",
    "list_sin_disc = []\n",
    "\n",
    "for case in dic_cases_list_ALL:\n",
    "    case_disc = case[\"Persona con discapacidad\"].lower()\n",
    "    if \"mental\" in case_disc:\n",
    "        list_con_disc.append(case_disc)\n",
    "    elif \"motriz\" in case_disc:\n",
    "        list_con_disc.append(case_disc)\n",
    "    elif \"visual\" in case_disc:\n",
    "        list_con_disc.append(case_disc)\n",
    "    elif \"auditiva\" in case_disc:\n",
    "        list_con_disc.append(case_disc)\n",
    "    elif \"autismo\" in case_disc:\n",
    "        list_con_disc.append(case_disc)\n",
    "    elif \"autista\" in case_disc:\n",
    "        list_con_disc.append(case_disc)\n",
    "    elif \"obesidad\" in case_disc:\n",
    "        list_con_disc.append(case_disc)\n",
    "    elif \"asperger\" in case_disc:\n",
    "        list_con_disc.append(case_disc)\n",
    "    if case_disc not in list_sin_disc:\n",
    "        list_sin_disc.append(case_disc)"
   ]
  },
  {
   "cell_type": "code",
   "execution_count": 31,
   "id": "36a4bae5-30fe-447b-93ec-a98df3a6dabe",
   "metadata": {
    "tags": []
   },
   "outputs": [
    {
     "name": "stdout",
     "output_type": "stream",
     "text": [
      "El porcentaje de personas con discapacidad, sobre el total de respuestas, es: 2.98%\n"
     ]
    }
   ],
   "source": [
    "total_con_disc = len(list_con_disc)\n",
    "per_con_disc = round((total_con_disc/len(dic_cases_list_ALL))*100,2)\n",
    "\n",
    "print(\"El porcentaje de personas con discapacidad, sobre el total de respuestas, es: \" + str(per_con_disc) + \"%\")"
   ]
  },
  {
   "cell_type": "markdown",
   "id": "acde6b71-2537-421f-8398-2ca8afd34398",
   "metadata": {},
   "source": [
    "11. Salarios: calcular la mediana salarial para cada una de las siguientes categorías:\n",
    "- Salario según región\n",
    "- Salario por rol\n",
    "- Salario por experiencia\n",
    "- Salario por nivel de formación\n",
    "- Salario por carrera\n",
    "- Salario por tecnología\n",
    "- Salario por lenguaje de programación\n",
    "- Salario por género"
   ]
  },
  {
   "cell_type": "code",
   "execution_count": 32,
   "id": "7a104dc4-e980-437f-b68e-079f9ac424ad",
   "metadata": {},
   "outputs": [],
   "source": [
    "def conversor_dolar(valor_pesos,pais_str): #valor de conversión tomado de cotizador google\n",
    "    dic_cotizacion = {\"Bolivia\": 6.88,\n",
    "                      \"Chile\": 813.38,\n",
    "                      \"Colombia\": 3958,\n",
    "                      \"Costa Rica\": 640.44,\n",
    "                      \"Cuba\": 23.99,\n",
    "                      \"Ecuador\": 43.93,\n",
    "                      \"El Salvador\": 43.93,\n",
    "                      \"Guatemala\": 7.68,\n",
    "                      \"Honduras\": 24.56,\n",
    "                      \"México\": 20.81,\n",
    "                      \"Nicaragua\": 35.45,\n",
    "                      \"Panamá\": 1,\n",
    "                      \"Paraguay\": 7063.69,\n",
    "                      \"Perú\": 3.85,\n",
    "                      \"Puerto Rico\": 1,\n",
    "                      \"República Dominicana\": 57.69,\n",
    "                      \"Uruguay\": 43.93,\n",
    "                      \"Venezuela\": 248303,\n",
    "                      \"Argentina\": 104.85}\n",
    "    valor_pesos_convertido = valor_pesos/dic_cotizacion[pais_str]\n",
    "    return round(valor_pesos_convertido,2)"
   ]
  },
  {
   "cell_type": "code",
   "execution_count": 33,
   "id": "6642c5d0-9c26-443a-8676-1d83d07da848",
   "metadata": {
    "tags": []
   },
   "outputs": [],
   "source": [
    "def mediana_key (key_ALL):\n",
    "    lists_key = []\n",
    "    list_lists_key = []\n",
    "\n",
    "    for key in dic_cases_list_ALL:\n",
    "        case_key = key[key_ALL]\n",
    "        if case_key not in lists_key:\n",
    "             lists_key.append(case_key)\n",
    "\n",
    "    for key in lists_key:\n",
    "        list_key = [key,[]]\n",
    "        list_lists_key.append(list_key)\n",
    "    \n",
    "    for case in dic_cases_list_ALL:\n",
    "        case_key = case[key_ALL]\n",
    "        case_pais = case[\"Pais\"]\n",
    "        case_salario = case[\"Salario Neto\"]\n",
    "        if case_salario == '':\n",
    "            case_salario = 0\n",
    "        case_salario_float = float(case_salario) \n",
    "        salario_dolarizado = conversor_dolar(case_salario_float,case_pais)\n",
    "        for key in list_lists_key:\n",
    "            if case_key == key[0]:\n",
    "                key[1].append(salario_dolarizado)\n",
    "            \n",
    "    import statistics\n",
    "    list_med_key = []\n",
    "    list_meds_key = []\n",
    "    index = 0\n",
    "\n",
    "    for key in list_lists_key:\n",
    "        key_med = round(statistics.median(key[1]),2)\n",
    "        list_med_key.append(key_med)\n",
    "        list_meds_key.append(((str(key[0])) + \": \", str(list_med_key[index])))\n",
    "        index += 1\n",
    "    \n",
    "    return list_meds_key"
   ]
  },
  {
   "cell_type": "code",
   "execution_count": 34,
   "id": "e5468674-383a-4466-b118-50f5a18892e1",
   "metadata": {},
   "outputs": [
    {
     "name": "stdout",
     "output_type": "stream",
     "text": [
      "La mediana de salario por Nivel de educación formal:\n",
      "- ('Terciario: ', '1020.97') USD\n",
      "- ('Universitario: ', '1182.64') USD\n",
      "- ('Secundario: ', '980.53') USD\n",
      "- ('Posgrado: ', '1335.24') USD\n",
      "- ('Doctorado: ', '1516.45') USD\n",
      "- ('Posdoctorado: ', '477.32') USD\n",
      "- ('Primario: ', '1525.99') USD\n"
     ]
    }
   ],
   "source": [
    "med_nivel_educacion = mediana_key(\"Nivel de educación formal\")\n",
    "print(\"La mediana de salario por Nivel de educación formal:\")\n",
    "for nivel in med_nivel_educacion:\n",
    "        if nivel[0] != \": \":\n",
    "            print(\"-\",str(nivel),\"USD\")"
   ]
  },
  {
   "cell_type": "code",
   "execution_count": 35,
   "id": "d7070ba4-c91e-4dab-8fb9-29424d90d7d9",
   "metadata": {},
   "outputs": [
    {
     "name": "stdout",
     "output_type": "stream",
     "text": [
      "La mediana de salario por Region:\n",
      "- ('Cochabamba: ', '1017.15')\n",
      "- ('La Paz: ', '1911.34')\n",
      "- ('Santa Cruz de la Sierra: ', '1279.07')\n",
      "- ('Santiago: ', '2053.03')\n",
      "- ('Maipo: ', '1413.85')\n",
      "- ('Biobío: ', '1351.08')\n",
      "- ('Valparaíso: ', '1598.27')\n",
      "- ('Cachapoal: ', '3442.43')\n",
      "- ('Talca: ', '5409.53')\n",
      "- ('Valdivia: ', '2013.82')\n"
     ]
    }
   ],
   "source": [
    "med_region = mediana_key(\"Región\") \n",
    "print(\"La mediana de salario por Region:\") \n",
    "for region in med_region[0:10]: #solo los primeros diez para que el print no quede tan largo, se saca esto y se printean todos\n",
    "     print(\"-\",str(region))"
   ]
  },
  {
   "cell_type": "code",
   "execution_count": 36,
   "id": "e04f0b73-b6be-49bc-a01b-270535cb5e14",
   "metadata": {},
   "outputs": [
    {
     "name": "stdout",
     "output_type": "stream",
     "text": [
      "La mediana de salario por Tipo de Rol:\n"
     ]
    },
    {
     "data": {
      "text/plain": [
       "{'Engineer': 1275.49,\n",
       " 'Developer': 1163.57,\n",
       " 'Manager': 1621.36,\n",
       " 'Analyst': 1001.43,\n",
       " 'QA': 1001.43,\n",
       " 'Leader': 1621.36,\n",
       " 'Architect': 1525.99,\n",
       " 'UX/UI': 1051.38,\n",
       " 'Others': 1192.18}"
      ]
     },
     "execution_count": 36,
     "metadata": {},
     "output_type": "execute_result"
    }
   ],
   "source": [
    "list_engineer = []\n",
    "list_developer = []\n",
    "list_manager = []\n",
    "list_analyst = []\n",
    "list_QA = []\n",
    "list_leader = []\n",
    "list_architect = []\n",
    "list_ux_ui = []\n",
    "list_others = []\n",
    "\n",
    "for case in dic_cases_list_ALL:\n",
    "    case_rol = case[\"Tipo de Rol\"].lower()\n",
    "    case_pais = case[\"Pais\"]\n",
    "    case_salario = case[\"Salario Neto\"]\n",
    "    if case_salario != \"\":\n",
    "        case_salario_dol = conversor_dolar(float(case_salario),case_pais)\n",
    "    if \"engineer\" in case_rol:\n",
    "        list_engineer.append(case_salario_dol)\n",
    "    elif \"ingeniero\" in case_rol:\n",
    "        list_engineer.append(case_salario_dol)\n",
    "    if \"dev\" in case_rol:\n",
    "        list_developer.append(case_salario_dol)\n",
    "    if  \"manager\" in case_rol:\n",
    "        list_manager.append(case_salario_dol)\n",
    "    elif \"jefe\" in case_rol:\n",
    "        list_manager.append(case_salario_dol)\n",
    "    elif \"gerente\" in case_rol:\n",
    "        list_manager.append(case_salario_dol)\n",
    "    if \"analyst\" in case_rol:\n",
    "        list_analyst.append(case_salario_dol)\n",
    "    elif \"analist\" in case_rol:\n",
    "        list_analyst.append(case_salario_dol)\n",
    "    elif \"analisis\" in case_rol:\n",
    "        list_analyst.append(case_salario_dol)\n",
    "    if \"qa\" in case_rol:\n",
    "        list_QA.append(case_salario_dol)\n",
    "    if \"leader\" in case_rol:\n",
    "        list_leader.append(case_salario_dol)\n",
    "    if \"architect\" in case_rol:\n",
    "        list_architect.append(case_salario_dol)\n",
    "    if \"ux\" in case_rol:\n",
    "        list_ux_ui.append(case_salario_dol)\n",
    "    elif \"ui\" in case_rol:\n",
    "        list_ux_ui.append(case_salario_dol)\n",
    "        \n",
    "list_total = list_engineer + list_developer + list_manager + list_analyst + list_QA + list_leader + list_architect + list_ux_ui \n",
    "\n",
    "for case in dic_cases_list_ALL:\n",
    "    case_rol = case[\"Tipo de Rol\"].lower()\n",
    "    case_pais = case[\"Pais\"]\n",
    "    case_salario = case[\"Salario Neto\"]\n",
    "    if case_salario != \"\":\n",
    "        case_salario_dol = conversor_dolar(float(case_salario),case_pais)\n",
    "    if case_rol not in list_total:\n",
    "        list_others.append(case_salario_dol)\n",
    "        \n",
    "import statistics\n",
    "dic_roles = {\"Engineer\": round(statistics.median(list_engineer),2),\n",
    "            \"Developer\": round(statistics.median(list_developer),2),\n",
    "            \"Manager\": round(statistics.median(list_manager),2),\n",
    "            \"Analyst\": round(statistics.median(list_analyst),2),\n",
    "            \"QA\": round(statistics.median(list_QA),2),\n",
    "            \"Leader\": round(statistics.median(list_leader),2),\n",
    "            \"Architect\": round(statistics.median(list_architect),2),\n",
    "            \"UX/UI\": round(statistics.median(list_ux_ui),2),\n",
    "            \"Others\": round(statistics.median(list_others),2)}\n",
    "print(\"La mediana de salario por Tipo de Rol:\")\n",
    "dic_roles"
   ]
  },
  {
   "cell_type": "code",
   "execution_count": 37,
   "id": "8af08124-8965-4a49-9e8a-31e86b6a30bb",
   "metadata": {},
   "outputs": [
    {
     "name": "stdout",
     "output_type": "stream",
     "text": [
      "La mediana de salario por Años de experiencia:\n",
      "- ('6: ', '1316.46')\n",
      "- ('12: ', '1335.24')\n",
      "- ('8: ', '1311.4')\n",
      "- ('10: ', '1335.24')\n",
      "- ('0: ', '575.82')\n",
      "- ('16: ', '1340.76')\n",
      "- ('9: ', '1382.93')\n",
      "- ('7: ', '1335.24')\n",
      "- ('15: ', '1430.62')\n",
      "- ('4: ', '1163.57')\n"
     ]
    }
   ],
   "source": [
    "med_experiencia = mediana_key(\"Años de experiencia\")\n",
    "print(\"La mediana de salario por Años de experiencia:\")\n",
    "for años in med_experiencia[0:10]:\n",
    "        print(\"-\",str(años))"
   ]
  },
  {
   "cell_type": "code",
   "execution_count": 38,
   "id": "a15ee88e-7149-4a2d-8283-ec968ebc46c5",
   "metadata": {
    "tags": []
   },
   "outputs": [
    {
     "name": "stdout",
     "output_type": "stream",
     "text": [
      "La mediana de salario por Carrera Universitaria:\n",
      "- ('Analista de Sistemas: ', '1106.34')\n",
      "- ('Ingeniería en Informática: ', '1335.24')\n",
      "- ('Ingeniería en Sistemas de Información: ', '1230.43')\n",
      "- ('Licenciatura en Ciencias de la Computación: ', '1411.54')\n",
      "- ('Bootcamp en programación web full stack: ', '1229.44')\n",
      "- ('Licenciatura en Sistemas de Información: ', '1201.72')\n",
      "- ('Ingenieria ejecucion electronica: ', '3442.43')\n",
      "- ('Ingeniería Industrial: ', '1192.18')\n",
      "- ('Ingeniería en Software: ', '1316.17')\n",
      "- ('Tecnicatura en Informática: ', '986.33')\n"
     ]
    }
   ],
   "source": [
    "med_carrera = mediana_key(\"Carrera Universitaria\")\n",
    "med_carrera.pop(1)\n",
    "print(\"La mediana de salario por Carrera Universitaria:\")\n",
    "for carrera in med_carrera[0:10]:\n",
    "        normalize(carrera[0])\n",
    "        print(\"-\",str(carrera))"
   ]
  },
  {
   "cell_type": "code",
   "execution_count": null,
   "id": "43a6440f-fe09-4d61-9557-beea60c363a1",
   "metadata": {},
   "outputs": [],
   "source": [
    "#saque de una pagina los 5 lenguajes de programacion mas utilizados\n",
    "\n",
    "list_python = []\n",
    "list_java = []\n",
    "list_javascript = []\n",
    "list_c = []\n",
    "list_PHP = []\n",
    "list_others = []\n",
    "\n",
    "for case in dic_cases_list_ALL:\n",
    "    case_leng = case[\"Lenguajes de programación\"].lower()\n",
    "    case_pais = case[\"Pais\"]\n",
    "    case_salario = case[\"Salario Neto\"]\n",
    "    if case_salario != \"\":\n",
    "        case_salario_dol = conversor_dolar(float(case_salario),case_pais)\n",
    "    if \"python\" in case_leng:\n",
    "        list_python.append(case_salario_dol)\n",
    "    if \"java\" == case_leng:\n",
    "        list_java.append(case_salario_dol)\n",
    "    if \"javascript\" in case_leng:\n",
    "        list_javascript.append(case_salario_dol)\n",
    "    if  \"c\" in case_leng:\n",
    "        list_c.append(case_salario_dol)\n",
    "    if \"php\" in case_leng:\n",
    "        list_PHP.append(case_salario_dol)\n",
    "        \n",
    "list_total = list_python + list_java + list_javascript + list_c + list_PHP \n",
    "\n",
    "for case in dic_cases_list_ALL:\n",
    "    case_leng = case[\"Lenguajes de programación\"].lower()\n",
    "    case_pais = case[\"Pais\"]\n",
    "    case_salario = case[\"Salario Neto\"]\n",
    "    if case_salario != \"\":\n",
    "        case_salario_dol = conversor_dolar(float(case_salario),case_pais)\n",
    "    if case_leng not in list_total:\n",
    "        list_others.append(case_salario_dol)\n",
    "        \n",
    "import statistics\n",
    "dic_leng = {\"Python\": round(statistics.median(list_python),2),\n",
    "            \"Java\": round(statistics.median(list_java),2),\n",
    "            \"Javascript\": round(statistics.median(list_javascript),2),\n",
    "            \"C\": round(statistics.median(list_c),2),\n",
    "            \"PHP\": round(statistics.median(list_PHP),2),\n",
    "            \"Others\": round(statistics.median(list_others),2)}\n",
    "\n",
    "print(\"La mediana de salario por Lenguajes de programación, para los 5 mas utilizados es:\")\n",
    "dic_leng"
   ]
  },
  {
   "cell_type": "code",
   "execution_count": null,
   "id": "45e0e016-aa2f-45af-b588-a3ad0a63c4b4",
   "metadata": {},
   "outputs": [],
   "source": [
    "med_tecnologias = mediana_key(\"Plataformas\")\n",
    "print(\"La mediana de salario por Plataformas:\")\n",
    "for tecnologia in med_tecnologias[0:10]:\n",
    "        print(\"-\",str(tecnologia))"
   ]
  },
  {
   "cell_type": "code",
   "execution_count": null,
   "id": "3473fc6e-226d-476e-9878-abacd2befcdf",
   "metadata": {},
   "outputs": [],
   "source": [
    "dic_generos = {}\n",
    "list_masculino = []\n",
    "list_femenino = []\n",
    "list_trans = []\n",
    "list_no_binario = []\n",
    "\n",
    "for case in dic_cases_list_ALL:\n",
    "    case_genero = normalize(case[\"Identidad de Género\"])    \n",
    "    case_pais = case[\"Pais\"]\n",
    "    case_salario = case[\"Salario Neto\"]\n",
    "    if case_salario != \"\":\n",
    "        case_salario_dol = conversor_dolar(float(case_salario),case_pais)\n",
    "    if \"trans\" in case_genero:\n",
    "        list_trans.append(case_salario_dol)\n",
    "    if \"Hombre\" in case_genero:\n",
    "        list_masculino.append(case_salario_dol)\n",
    "    elif \"Varon\" in case_genero:\n",
    "        list_masculino.append(case_salario_dol)\n",
    "    elif \"Masculino\" in case_genero:\n",
    "        list_masculino.append(case_salario_dol)\n",
    "    if \"Mujer\" in case_genero:\n",
    "        list_femenino.append(case_salario_dol)\n",
    "    elif \"Femenino\" in case_genero:\n",
    "        list_femenino.append(case_salario_dol)\n",
    "    if \"No binarie\" in case_genero:\n",
    "        list_no_binario.append(case_salario_dol)\n",
    "\n",
    "import statistics\n",
    "dic_generos = {\"Masculino\": round(statistics.median(list_masculino),2),\n",
    "               \"Femenino\": round(statistics.median(list_femenino),2),\n",
    "               \"Trans\": round(statistics.median(list_trans),2),\n",
    "               \"No binario\": round(statistics.median(list_no_binario),2)}\n",
    "\n",
    "print(\"La mediana de salario por Género:\")\n",
    "dic_generos"
   ]
  },
  {
   "cell_type": "markdown",
   "id": "bfd2e756-d810-4738-ab4a-4020aeb9bf4a",
   "metadata": {},
   "source": [
    "12. Printear porcentaje y salario según tipos de contrato ."
   ]
  },
  {
   "cell_type": "code",
   "execution_count": null,
   "id": "50a8f438-b75d-474d-9117-e03f24bc77bf",
   "metadata": {
    "tags": []
   },
   "outputs": [],
   "source": [
    "list_keys_contratos = []\n",
    "dic_contratos = {}\n",
    "\n",
    "for case in dic_cases_list_ALL:\n",
    "    case_contrato = case[\"Tipo contrato\"]\n",
    "    if case_contrato not in list_keys_contratos:\n",
    "        list_keys_contratos.append(case_contrato)\n",
    "        for contrato in list_keys_contratos:\n",
    "            dic_contratos[contrato] = 0      \n",
    "\n",
    "for case in dic_cases_list_ALL:\n",
    "    case_contrato = case[\"Tipo contrato\"]\n",
    "    dic_contratos[case_contrato] +=1"
   ]
  },
  {
   "cell_type": "code",
   "execution_count": null,
   "id": "317bd6d2-1794-4a41-9b3a-b7295955be54",
   "metadata": {
    "tags": []
   },
   "outputs": [],
   "source": [
    "sorted_dic_contratos = {}\n",
    "sorted_contratos_keys = sorted(dic_contratos,key=dic_contratos.get,reverse = True)\n",
    "\n",
    "for contrato in sorted_contratos_keys:\n",
    "    sorted_dic_contratos[contrato] = dic_contratos[contrato]"
   ]
  },
  {
   "cell_type": "code",
   "execution_count": null,
   "id": "baedf583-7002-48cc-8249-12663c0d698b",
   "metadata": {},
   "outputs": [],
   "source": [
    "list_salario_full_time = []\n",
    "list_salario_part_time = []\n",
    "list_salario_remoto = []\n",
    "list_salario_tercerizado = []\n",
    "list_salario_freelance = []\n",
    "list_salario_participacion = []\n",
    "\n",
    "for case in dic_cases_list_ALL:\n",
    "    case_contrato = case[\"Tipo contrato\"]\n",
    "    case_pais = case[\"Pais\"]\n",
    "    case_salario = case[\"Salario Neto\"]\n",
    "    if case_salario == '':\n",
    "        case_salario = 0\n",
    "    case_salario_dolar = conversor_dolar(float(case_salario),case_pais)\n",
    "    if \"Full-Time\" in case_contrato:\n",
    "        list_salario_full_time.append(case_salario_dolar)\n",
    "    if \"Part-Time\" in case_contrato:\n",
    "        list_salario_part_time.append(case_salario_dolar)\n",
    "    if \"Remoto\" in case_contrato:\n",
    "        list_salario_remoto.append(case_salario_dolar)\n",
    "    if \"Tercerizado\" in case_contrato:\n",
    "        list_salario_tercerizado.append(case_salario_dolar)\n",
    "    if \"Freelance\" in case_contrato:\n",
    "        list_salario_freelance.append(case_salario_dolar)\n",
    "    if \"Participación\" in case_contrato:\n",
    "        list_salario_participacion.append(case_salario_dolar)"
   ]
  },
  {
   "cell_type": "code",
   "execution_count": null,
   "id": "7a75451d-847d-4667-b823-986fcacaab59",
   "metadata": {},
   "outputs": [],
   "source": [
    "lists_tipos_salarios = list_salario_full_time, list_salario_part_time, list_salario_remoto, list_salario_tercerizado, list_salario_freelance, list_salario_participacion\n",
    "lists_tipos_avgs = []\n",
    "\n",
    "for list_salario in lists_tipos_salarios:\n",
    "    list_salario_avg = round(sum(list_salario)/len(list_salario),2)\n",
    "    lists_tipos_avgs.append(list_salario_avg)\n",
    "    \n",
    "index = 0\n",
    "print(\"Porcentaje de participacion, sobre el total de respuestas, para cada Tipo de Contrato (de mayor a menor):\")\n",
    "\n",
    "for contrato in enumerate(sorted_dic_contratos):\n",
    "    contrato_value = round((sorted_dic_contratos[contrato[1]]/len(dic_cases_list_ALL) * 100),2)\n",
    "    print(\"- \" + contrato[1] + (\"\\n\") +\" Participación: \" + str(contrato_value) + \"%\" + (\"\\n\") +\" Salario: USD \" + str(lists_tipos_avgs[index]))    \n",
    "    index += 1"
   ]
  }
 ],
 "metadata": {
  "kernelspec": {
   "display_name": "Python 3",
   "language": "python",
   "name": "python3"
  },
  "language_info": {
   "codemirror_mode": {
    "name": "ipython",
    "version": 3
   },
   "file_extension": ".py",
   "mimetype": "text/x-python",
   "name": "python",
   "nbconvert_exporter": "python",
   "pygments_lexer": "ipython3",
   "version": "3.8.8"
  }
 },
 "nbformat": 4,
 "nbformat_minor": 5
}
