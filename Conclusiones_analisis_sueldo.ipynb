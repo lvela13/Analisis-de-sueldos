{
 "cells": [
  {
   "cell_type": "markdown",
   "id": "2a1ea87b-faa9-4b00-a8ee-555cf4694c6e",
   "metadata": {},
   "source": [
    "# Entrega final\n",
    "\n",
    "**(Se requiere el notebook \"Análisis de sueldos\" resuelto)**"
   ]
  },
  {
   "cell_type": "markdown",
   "id": "d4975286-13ed-4cf9-b9a4-d85273f6f253",
   "metadata": {},
   "source": [
    "En base a los resultados obtenidos en *\"Análisis de sueldos\"* confeccionar conclusiones respecto a:\n",
    "\n",
    "- Rol vs sueldos\n",
    "- Nivel de educación alcanzada vs sueldos\n",
    "- Género vs sueldos\n",
    "- Tecnologías populares"
   ]
  },
  {
   "cell_type": "markdown",
   "id": "78f4da2a-a7d6-44d3-b85a-0c45300a9c10",
   "metadata": {
    "tags": []
   },
   "source": [
    "- **Rol vs sueldos**\n",
    "\n",
    "Engineer: 1275.49 USD <br>\n",
    "Developer: 1163.57 USD <br>\n",
    "Manager: 1621.36 USD <br>\n",
    "Analyst: 1001.43 USD <br>\n",
    "QA: 1001.43 USD <br>\n",
    "Leader: 1621.36 USD <br>\n",
    "Architect: 1525.99 USD <br>\n",
    "UX/UI: 1051.38 USD <br>\n",
    "Others: 1192.18 USD <br>\n",
    "\n",
    "Se presentan las medianas de salario sobre los tipos de rol normalizados ya que en la respuesta a esta pregunta se encontraban diferentes tipo de rol que tenian valores poco significativos sobre el total, estos se incluyeron en el tipo Others.\n",
    "\n",
    "Para futuras encuestas sería más sencillo de procesar los datos si este campo fuera un desplegable o tuviera un limite de caracteres. Sin embargo algo a tener en cuenta seria que se notó una gran cantidad de respuestas con roles multiples en donde seria necesario incluir un desplegable con posibilidad de seleccionar más de una opción. \n",
    "\n",
    "Con estos resultados normalizados vemos que la mediana salarial de Developer y de Leader es muy similar, lo que puede significar que si uno primero es developer y luego leader (por ejemplo) se le este pagando por debajo de lo que se le debería pagar al leader. \n",
    "Esto también se puede apreciar en la categoria Manager en donde por nivel organizacional se debería ganar más y sin embargo esta al mismo nivel que Analyst que seria uno de los primeros niveles. \n"
   ]
  },
  {
   "cell_type": "code",
   "execution_count": 80,
   "id": "a549d598-2fe1-4f9c-986e-305e5475b10c",
   "metadata": {
    "jupyter": {
     "source_hidden": true
    },
    "tags": []
   },
   "outputs": [
    {
     "name": "stdout",
     "output_type": "stream",
     "text": [
      "Tipos de rol vs sueldos\n",
      "Tipos de rol       Mediana de Salario Neto en Dólares\n",
      "Engineer      ---------------------------------------------------------------63%\n",
      "Developer     ----------------------------------------------------------58%\n",
      "Manager       ---------------------------------------------------------------------------------81%\n",
      "Analyst       --------------------------------------------------50%\n",
      "QA            --------------------------------------------------50%\n",
      "Leader        ---------------------------------------------------------------------------------81%\n",
      "Architect     ----------------------------------------------------------------------------76%\n",
      "UX/UI         ----------------------------------------------------52%\n",
      "Others        -----------------------------------------------------------59%\n",
      "              ----------------------------------------------------------------------------------------------------100% / 2000 USD\n"
     ]
    }
   ],
   "source": [
    "mas_largo = len(\"Architect\") #el más largo\n",
    "list_tipo_rol = (('Engineer', 1275.49),\n",
    "                 ('Developer', 1163.57),\n",
    "                 ('Manager', 1621.36),\n",
    "                 ('Analyst', 1001.43),\n",
    "                 ('QA', 1001.43),\n",
    "                 ('Leader', 1621.36),\n",
    "                 ('Architect', 1525.99),\n",
    "                 ('UX/UI', 1051.38),\n",
    "                 ('Others', 1192.18))\n",
    "espacios = ((mas_largo+10)-len(\"Tipos de rol\"))\n",
    "list_vacios = \"                                                             \"\n",
    "list_per = \"-------------------------------------------------------------------------------------------------------------\"\n",
    "print(\"Tipos de rol vs sueldos\" + \"\\n\" + \"Tipos de rol\" + list_vacios[0:espacios] + \"Mediana de Salario Neto en Dólares\")\n",
    "for rol in list_tipo_rol:\n",
    "    tipo_rol = rol[0]\n",
    "    med_rol = rol[1]\n",
    "    per_rol = int(med_rol*100/2000)\n",
    "    print(str(tipo_rol)+ list_vacios[len(tipo_rol):mas_largo+5] + list_per[0:per_rol] + str(per_rol) + \"%\")\n",
    "print(list_vacios[0:mas_largo+5] + list_per[0:100] + \"100% / 2000 USD\")"
   ]
  },
  {
   "cell_type": "markdown",
   "id": "100160eb-4b7e-4642-af75-f78b3678d7d5",
   "metadata": {},
   "source": [
    "- **Nivel de educación alcanzada vs sueldos**\n",
    "\n",
    "Terciario: 1020.97 USD <br>\n",
    "Universitario: 1182.64 USD <br>\n",
    "Secundario: 980.53 USD <br>\n",
    "Posgrado: 1335.24 USD <br>\n",
    "Doctorado: 1516.45 USD <br>\n",
    "Posdoctorado: 477.32 USD <br>\n",
    "Primario: 1525.99 USD <br>\n",
    "\n",
    "Posdoctorado es la mediana salarial más baja Según el notebook pero fijandome en los datos solo tiene 4 respuestas y en 2 de ellas los números son muy bajos (1,95) por lo que hace que la mediana no sea real. \n",
    "\n",
    "Teniendo lo anteriormente mencionado en cuenta, el más bajo real es el nivel Secundario. \n",
    "Llama la atención que la mediana salarial del nivel Primario, que sería un nivel educativo inferior, es mayor a la de Secundario y casi se encuentra igualado con el nivel educativo más alto de Doctorado.\n",
    "\n",
    "Para tener en cuenta para futuras encuestas realizadas en la respuesta de salario se encontró muchos casos en donde el número era muy bajo para estar en moneda local, a pesar de que la pregunta lo indica y por esto se tomo como si estuviera en moneda local. Esto termina ensuciando el resultado de los números sobre el total de los salarios dolarizados ya que se tomó la conversión de moneda local para cada caso."
   ]
  },
  {
   "cell_type": "code",
   "execution_count": 81,
   "id": "76cc8d1d-8322-479e-9edd-47bb5591874e",
   "metadata": {
    "jupyter": {
     "source_hidden": true
    },
    "tags": []
   },
   "outputs": [
    {
     "name": "stdout",
     "output_type": "stream",
     "text": [
      "Nivel de educación alcanzada vs sueldos\n",
      "Niveles de educación   Mediana de Salario Neto en Dólares\n",
      "Terciario            ---------------------------------------------------51%\n",
      "Universitario        -----------------------------------------------------------59%\n",
      "Secundario           -------------------------------------------------49%\n",
      "Posgrado             ------------------------------------------------------------------66%\n",
      "Doctorado            ---------------------------------------------------------------------------75%\n",
      "Posdoctorado         -----------------------23%\n",
      "Primario             ----------------------------------------------------------------------------76%\n",
      "                     ----------------------------------------------------------------------------------------------------100% / 2000 USD\n"
     ]
    }
   ],
   "source": [
    "mas_largo = len(\"Universitario\") #el más largo\n",
    "list_tipo_nivel = [('Terciario', 1020.97),\n",
    " ('Universitario', 1182.64),\n",
    " ('Secundario', 980.53),\n",
    " ('Posgrado', 1335.24),\n",
    " ('Doctorado', 1516.45),\n",
    " ('Posdoctorado', 477.32),\n",
    " ('Primario', 1525.99)]\n",
    "espacios = ((mas_largo+10)-len(\"Niveles de educación\"))\n",
    "list_vacios = \"                                                             \"\n",
    "list_per = \"-------------------------------------------------------------------------------------------------------------\"\n",
    "print(\"Nivel de educación alcanzada vs sueldos\" + \"\\n\" + \"Niveles de educación\" + list_vacios[0:espacios] + \"Mediana de Salario Neto en Dólares\")\n",
    "for nivel in list_tipo_nivel:\n",
    "    tipo_nivel = nivel[0]\n",
    "    med_nivel = nivel[1]\n",
    "    per_nivel = int(med_nivel*100/2000)\n",
    "    print(str(tipo_nivel)+ list_vacios[len(tipo_nivel):mas_largo+8] + list_per[0:per_nivel] + str(per_nivel) + \"%\")\n",
    "print(list_vacios[0:mas_largo+8] + list_per[0:100] + \"100% / 2000 USD\")\n",
    "    "
   ]
  },
  {
   "cell_type": "markdown",
   "id": "0a1ea2a9-7ef9-41f3-a431-238af06cf9c1",
   "metadata": {},
   "source": [
    "- **Género vs sueldos**\n",
    "\n",
    "Masculino: 1239.87 USD <br>\n",
    "Femenino: 991.89 USD <br>\n",
    "Trans: 1251.19 USD <br>\n",
    "No binario: 1044.94 USD <br>\n",
    "\n",
    "Se tomaron valores normalizados ya que las respuestas a estas preguntas eran muy variadas y en muchos casos no hacian referencia al Género, tal vez sirva poder incluir una breve descripción de lo que se entiende por el término para que se responda lo que se pregunta, en vez de preguntar \"Me identifico\". Ejemplo de respuestas relacionada con otra interpretacion del termino, la orientación sexual de las personas. También se detectaron otras respuestas en donde no se respondió con seriedad a la pregunta planteada en caso, sintiéndolo como ofensiva, dejo algunos ejemplos:\n",
    "1. Que le fue asignado al nacer\"?? WTF? Tengo pito y me gustan las chicas. Lo que hace miles de años se conocía como: Hombre\n",
    "2. A mi no me asignaron nada. Nací como la biología de mi madre se le ocurrió crearme.\n",
    "3. Esto es una mierda\n",
    "4. Helicoptero apache (nah mentira, soy hombre)\n",
    "5. basta de boludeces\n",
    "\n",
    "Entre los tipos de Géneros normalizados se puede ver una clara diferencia entre las mujeres y el resto.\n",
    "Se puede ver el tipo Trans queda con una mediana parecida a la del Masculino, esto puede ser porque al hacer la categoria trans se incluye hombre trans y mujer trans."
   ]
  },
  {
   "cell_type": "code",
   "execution_count": 79,
   "id": "c13311cb-8b05-46e2-88e8-20ee4f9fb268",
   "metadata": {
    "jupyter": {
     "source_hidden": true
    },
    "tags": []
   },
   "outputs": [
    {
     "name": "stdout",
     "output_type": "stream",
     "text": [
      "Género vs sueldos\n",
      "Identidades de Género          Mediana de Salario Neto en Dólares\n",
      "Masculino         -------------------------------------------------------------61%\n",
      "Femenino          -------------------------------------------------49%\n",
      "Trans             --------------------------------------------------------------62%\n",
      "No binario        ----------------------------------------------------52%\n",
      "                  ----------------------------------------------------------------------------------------------------100% / 2000 USD\n"
     ]
    }
   ],
   "source": [
    "mas_largo = len(\"No binario\") #el más largo\n",
    "list_tipo_generos = [('Masculino', 1239.87),\n",
    " ('Femenino', 991.89),\n",
    " ('Trans', 1251.19),\n",
    " ('No binario', 1044.94)]\n",
    "espacios = ((mas_largo)-len(\"Identidades de Género\"))\n",
    "list_vacios = \"                                                             \"\n",
    "list_per = \"-------------------------------------------------------------------------------------------------------------\"\n",
    "print(\"Género vs sueldos\" + \"\\n\" + \"Identidades de Género\" + list_vacios[0:10] + \"Mediana de Salario Neto en Dólares\")\n",
    "for genero in list_tipo_generos:\n",
    "    tipo_genero = genero[0]\n",
    "    med_genero = genero[1]\n",
    "    per_genero = int(med_genero*100/2000)\n",
    "    print(str(tipo_genero)+ list_vacios[len(tipo_genero):mas_largo+8] + list_per[0:per_genero] + str(per_genero) + \"%\")\n",
    "print(list_vacios[0:mas_largo+8] + list_per[0:100] + \"100% / 2000 USD\")\n",
    "    "
   ]
  },
  {
   "cell_type": "markdown",
   "id": "b7a21d1c-08ad-42ca-b26b-f3c500ede528",
   "metadata": {},
   "source": [
    "- **Tecnologías populares**\n",
    "\n",
    "La pregunta era \"Lenguajes de programación o tecnologías\" asi que se tomó esta como Tecnologías populares.\n",
    "\n",
    "Python: 1297.45 USD <br>\n",
    "Java: 1165.95 USD <br>\n",
    "Javascript: 1211.25 USD <br>\n",
    "C: 1206.49 USD <br>\n",
    "PHP: 1077.73 USD <br>\n",
    "Others: 1192.18 USD <br>\n",
    "\n",
    "Se tomaron los 5 lenguajes de programación mas utilizados del siguiente link:\n",
    "https://www.stackscale.com/es/blog/lenguajes-programacion-populares-2021/ \n",
    "\n",
    "Esto se hizo para poder normalizar los datos, creando de todas formas una categoria de Others para poner el resto de los datos. \n",
    "Se notó que casi el total de las respuestas tenian mas de un lenguaje de programación por lo que se puede deducir que esto es algo muy común.\n",
    "En cuanto la mediana no se notan grandes diferencias entre los distintos lenguajes. "
   ]
  },
  {
   "cell_type": "code",
   "execution_count": 82,
   "id": "74123507-94dd-4de2-9931-91f1ebfc848b",
   "metadata": {
    "jupyter": {
     "source_hidden": true
    },
    "tags": []
   },
   "outputs": [
    {
     "name": "stdout",
     "output_type": "stream",
     "text": [
      "Tecnologías vs sueldos\n",
      "Lenguajes de programación o Tecnologías          Mediana de Salario Neto en Dólares\n",
      "Python            ----------------------------------------------------------------64%\n",
      "Java              ----------------------------------------------------------58%\n",
      "Javascript        ------------------------------------------------------------60%\n",
      "C                 ------------------------------------------------------------60%\n",
      "PHP               -----------------------------------------------------53%\n",
      "Others            -----------------------------------------------------------59%\n",
      "                  ----------------------------------------------------------------------------------------------------100% / 2000 USD\n"
     ]
    }
   ],
   "source": [
    "mas_largo = len(\"No binario\") #el más largo\n",
    "list_tipo_lengs = [('Python', 1297.45),\n",
    " ('Java', 1165.95),\n",
    " ('Javascript', 1211.25),\n",
    " ('C', 1206.49),\n",
    " ('PHP', 1077.73),\n",
    " ('Others', 1192.18)]\n",
    "espacios = ((mas_largo)-len(\"Lenguajes de programación o Tecnologías\"))\n",
    "list_vacios = \"                                                             \"\n",
    "list_per = \"-------------------------------------------------------------------------------------------------------------\"\n",
    "print(\"Tecnologías vs sueldos\" + \"\\n\" + \"Lenguajes de programación o Tecnologías\" + list_vacios[0:10] + \"Mediana de Salario Neto en Dólares\")\n",
    "for leng in list_tipo_lengs:\n",
    "    tipo_leng = leng[0]\n",
    "    med_leng = leng[1]\n",
    "    per_leng = int(med_leng*100/2000)\n",
    "    print(str(tipo_leng)+ list_vacios[len(tipo_leng):mas_largo+8] + list_per[0:per_leng] + str(per_leng) + \"%\")\n",
    "print(list_vacios[0:mas_largo+8] + list_per[0:100] + \"100% / 2000 USD\")"
   ]
  }
 ],
 "metadata": {
  "kernelspec": {
   "display_name": "Python 3",
   "language": "python",
   "name": "python3"
  },
  "language_info": {
   "codemirror_mode": {
    "name": "ipython",
    "version": 3
   },
   "file_extension": ".py",
   "mimetype": "text/x-python",
   "name": "python",
   "nbconvert_exporter": "python",
   "pygments_lexer": "ipython3",
   "version": "3.8.8"
  }
 },
 "nbformat": 4,
 "nbformat_minor": 5
}
